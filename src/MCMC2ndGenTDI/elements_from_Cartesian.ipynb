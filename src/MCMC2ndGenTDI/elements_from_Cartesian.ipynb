{
 "cells": [
  {
   "cell_type": "code",
   "execution_count": 1,
   "id": "515a74c2",
   "metadata": {},
   "outputs": [],
   "source": [
    "from __future__ import absolute_import, division, print_function\n",
    "import sys\n",
    "import numpy as np\n",
    "import matplotlib.pyplot as plt\n",
    "import math\n",
    "from scipy.signal import kaiser,kaiser_beta\n",
    "import time\n",
    "from scipy.stats import norm\n",
    "import numpy as np\n",
    "from scipy.stats import linregress\n",
    "from lisaconstants import GM_SUN,c,ASTRONOMICAL_YEAR,ASTRONOMICAL_UNIT,SUN_SCHWARZSCHILD_RADIUS,OBLIQUITY"
   ]
  },
  {
   "cell_type": "markdown",
   "id": "26e5b250",
   "metadata": {},
   "source": [
    "# Initial settings used in LISA instrument simulation for loading the correct position and velocity files"
   ]
  },
  {
   "cell_type": "code",
   "execution_count": 2,
   "id": "3752f2e6",
   "metadata": {},
   "outputs": [],
   "source": [
    "data_dir = './'\n",
    "\n",
    "f_s = 4\n",
    "sec = 1*3600\n",
    "\n"
   ]
  },
  {
   "cell_type": "markdown",
   "id": "6a7dca48",
   "metadata": {},
   "source": [
    "# Load the position and velocity data"
   ]
  },
  {
   "cell_type": "code",
   "execution_count": 3,
   "id": "657f817b",
   "metadata": {},
   "outputs": [],
   "source": [
    "\n",
    "positions_1 = np.genfromtxt(data_dir+'s_c_positions_{0}_Hz_{1}_sec_spacecraft_1.dat'.format(f_s,sec))\n",
    "positions_2 = np.genfromtxt(data_dir+'s_c_positions_{0}_Hz_{1}_sec_spacecraft_2.dat'.format(f_s,sec))\n",
    "positions_3 = np.genfromtxt(data_dir+'s_c_positions_{0}_Hz_{1}_sec_spacecraft_3.dat'.format(f_s,sec))\n",
    "\n",
    "velocity_1 = np.genfromtxt(data_dir+'s_c_velocity_{0}_Hz_{1}_sec_spacecraft_1.dat'.format(f_s,sec))\n",
    "velocity_2 = np.genfromtxt(data_dir+'s_c_velocity_{0}_Hz_{1}_sec_spacecraft_2.dat'.format(f_s,sec))\n",
    "velocity_3 = np.genfromtxt(data_dir+'s_c_velocity_{0}_Hz_{1}_sec_spacecraft_3.dat'.format(f_s,sec))"
   ]
  },
  {
   "cell_type": "markdown",
   "id": "d2b9de6a",
   "metadata": {},
   "source": [
    "# Magnitude of position and velocity vectors"
   ]
  },
  {
   "cell_type": "code",
   "execution_count": 4,
   "id": "c19ce9d1",
   "metadata": {},
   "outputs": [],
   "source": [
    "mag_pos_1 = np.sqrt(positions_1.T[0]**2+positions_1.T[1]**2+positions_1.T[2]**2)     \n",
    "mag_pos_2 = np.sqrt(positions_2.T[0]**2+positions_2.T[1]**2+positions_2.T[2]**2)     \n",
    "mag_pos_3 = np.sqrt(positions_3.T[0]**2+positions_3.T[1]**2+positions_3.T[2]**2)     \n",
    "\n",
    "mag_vel_1 = np.sqrt(velocity_1.T[0]**2+velocity_1.T[1]**2+velocity_1.T[2]**2)     \n",
    "mag_vel_2 = np.sqrt(velocity_2.T[0]**2+velocity_2.T[1]**2+velocity_2.T[2]**2)     \n",
    "mag_vel_3 = np.sqrt(velocity_3.T[0]**2+velocity_3.T[1]**2+velocity_3.T[2]**2)  "
   ]
  },
  {
   "cell_type": "markdown",
   "id": "b155aaf2",
   "metadata": {},
   "source": [
    "# Angular momentum vector and magnitude of each S/C"
   ]
  },
  {
   "cell_type": "code",
   "execution_count": 5,
   "id": "4a3a004d",
   "metadata": {},
   "outputs": [],
   "source": [
    "ang_momen_1 = np.cross(positions_1,velocity_1)\n",
    "ang_momen_2 = np.cross(positions_2,velocity_2)\n",
    "ang_momen_3 = np.cross(positions_3,velocity_3)\n",
    "\n",
    "mag_ang_momen_1 = np.sqrt(ang_momen_1.T[0]**2+ang_momen_1.T[1]**2+ang_momen_1.T[2]**2) \n",
    "mag_ang_momen_2 = np.sqrt(ang_momen_2.T[0]**2+ang_momen_2.T[1]**2+ang_momen_2.T[2]**2) \n",
    "mag_ang_momen_3 = np.sqrt(ang_momen_3.T[0]**2+ang_momen_3.T[1]**2+ang_momen_3.T[2]**2) "
   ]
  },
  {
   "cell_type": "markdown",
   "id": "6f3ca903",
   "metadata": {},
   "source": [
    "# Eccentricity vector and magnitude $e$ of each S/C"
   ]
  },
  {
   "cell_type": "code",
   "execution_count": 6,
   "id": "23fcf77a",
   "metadata": {},
   "outputs": [],
   "source": [
    "ecc_1 = np.cross(velocity_1,ang_momen_1).T/GM_SUN - positions_1.T/mag_pos_1\n",
    "ecc_2 = np.cross(velocity_2,ang_momen_2).T/GM_SUN - positions_2.T/mag_pos_2\n",
    "ecc_3 = np.cross(velocity_3,ang_momen_3).T/GM_SUN - positions_3.T/mag_pos_3\n",
    "\n",
    "mag_ecc_1 = np.sqrt(ecc_1[0]**2+ecc_1[1]**2+ecc_1[2]**2)     \n",
    "mag_ecc_2 = np.sqrt(ecc_2[0]**2+ecc_2[1]**2+ecc_2[2]**2)     \n",
    "mag_ecc_3 = np.sqrt(ecc_3[0]**2+ecc_3[1]**2+ecc_3[2]**2)    "
   ]
  },
  {
   "cell_type": "markdown",
   "id": "ae500742",
   "metadata": {},
   "source": [
    "# Unit direction vector $\\hat{n}$ and magnitude of each S/C"
   ]
  },
  {
   "cell_type": "code",
   "execution_count": 7,
   "id": "7be2ab97",
   "metadata": {},
   "outputs": [],
   "source": [
    "n_1 = np.array([-1*ang_momen_1.T[1],ang_momen_1.T[0],np.zeros(len(ang_momen_1.T[0]))])\n",
    "n_2 = np.array([-1*ang_momen_2.T[1],ang_momen_2.T[0],np.zeros(len(ang_momen_2.T[0]))])\n",
    "n_3 = np.array([-1*ang_momen_3.T[1],ang_momen_3.T[0],np.zeros(len(ang_momen_3.T[0]))])\n",
    "\n",
    "mag_n_1 = np.sqrt(n_1[0]**2+n_1[1]**2+n_1[2]**2) \n",
    "mag_n_2 = np.sqrt(n_2[0]**2+n_2[1]**2+n_2[2]**2)     \n",
    "mag_n_3 = np.sqrt(n_3[0]**2+n_3[1]**2+n_3[2]**2) "
   ]
  },
  {
   "cell_type": "markdown",
   "id": "475c0ada",
   "metadata": {},
   "source": [
    "# True anomaly $\\nu(t)$ of each S/C"
   ]
  },
  {
   "cell_type": "code",
   "execution_count": 8,
   "id": "3ce21ff1",
   "metadata": {},
   "outputs": [],
   "source": [
    "\n",
    "if all(np.sum(positions_1*velocity_1,axis=1)>=0.0):\n",
    "    true_anomaly_1 = np.arccos(np.sum(ecc_1*positions_1.T,axis=0)/(mag_ecc_1*mag_pos_1))\n",
    "else:\n",
    "    true_anomaly_1 = 2.0*np.pi - np.arccos(np.sum(ecc_1*positions_1.T,axis=0)/(mag_ecc_1*mag_pos_1))\n",
    "\n",
    "if all(np.sum(positions_2*velocity_2,axis=1)>=0.0):\n",
    "    true_anomaly_2 = np.arccos(np.sum(ecc_2*positions_2.T,axis=0)/(mag_ecc_2*mag_pos_2))\n",
    "else:\n",
    "    true_anomaly_2 = 2.0*np.pi - np.arccos(np.sum(ecc_2*positions_2.T,axis=0)/(mag_ecc_2*mag_pos_2))\t\n",
    "\n",
    "if all(np.sum(positions_3*velocity_3,axis=1)>=0.0):\n",
    "    true_anomaly_3 = np.arccos(np.sum(ecc_3*positions_3.T,axis=0)/(mag_ecc_3*mag_pos_3))\n",
    "else:\n",
    "    true_anomaly_3 = 2.0*np.pi - np.arccos(np.sum(ecc_3*positions_3.T,axis=0)/(mag_ecc_3*mag_pos_3))"
   ]
  },
  {
   "cell_type": "markdown",
   "id": "81009e76",
   "metadata": {},
   "source": [
    "# Inclination $\\iota(t)$ of each S/C"
   ]
  },
  {
   "cell_type": "code",
   "execution_count": 9,
   "id": "45f588a0",
   "metadata": {},
   "outputs": [],
   "source": [
    "inclination_1 = np.arccos(ang_momen_1.T[2]/mag_ang_momen_1)\n",
    "inclination_2 = np.arccos(ang_momen_2.T[2]/mag_ang_momen_2)\n",
    "inclination_3 = np.arccos(ang_momen_3.T[2]/mag_ang_momen_3)"
   ]
  },
  {
   "cell_type": "markdown",
   "id": "374561e4",
   "metadata": {},
   "source": [
    "# Eccentric anomaly $E(t)$ of each S/C"
   ]
  },
  {
   "cell_type": "code",
   "execution_count": 10,
   "id": "efd7b76d",
   "metadata": {},
   "outputs": [],
   "source": [
    "ecc_anomaly_1 = 2.0*np.arctan(np.tan(true_anomaly_1/2.0)/(np.sqrt((1.0+mag_ecc_1)/(1.0-mag_ecc_1))))\n",
    "ecc_anomaly_2 = 2.0*np.arctan(np.tan(true_anomaly_2/2.0)/(np.sqrt((1.0+mag_ecc_2)/(1.0-mag_ecc_2))))\n",
    "ecc_anomaly_3 = 2.0*np.arctan(np.tan(true_anomaly_3/2.0)/(np.sqrt((1.0+mag_ecc_3)/(1.0-mag_ecc_3))))"
   ]
  },
  {
   "cell_type": "markdown",
   "id": "7a75d399",
   "metadata": {},
   "source": [
    "# RAAN $\\Omega(t)$ of each S/C."
   ]
  },
  {
   "cell_type": "code",
   "execution_count": 11,
   "id": "4eabfda1",
   "metadata": {},
   "outputs": [],
   "source": [
    "if all(n_1[1] >=0.0):\n",
    "    raan_1 = np.arccos(n_1[0]/mag_n_1)\n",
    "else:\n",
    "    raan_1 = 2.0*np.pi - np.arccos(n_1[0]/mag_n_1)\n",
    "\n",
    "if all(n_2[1] >=0.0):\n",
    "    raan_2 = np.arccos(n_2[0]/mag_n_2)\n",
    "else:\n",
    "    raan_2 = 2.0*np.pi - np.arccos(n_2[0]/mag_n_2)\n",
    "    \n",
    "if all(n_3[1] >=0.0):\n",
    "    raan_3 = np.arccos(n_3[0]/mag_n_3)\n",
    "else:\n",
    "    raan_3 = 2.0*np.pi - np.arccos(n_3[0]/mag_n_3)\n"
   ]
  },
  {
   "cell_type": "markdown",
   "id": "033ccd24",
   "metadata": {},
   "source": [
    "# Arg. of perihelion $\\omega(t)$ of each S/C."
   ]
  },
  {
   "cell_type": "code",
   "execution_count": 12,
   "id": "1749556e",
   "metadata": {},
   "outputs": [],
   "source": [
    "if all(ecc_1[2]>=0.0):\n",
    "    arg_per_1 = np.arccos(np.sum(n_1*ecc_1,axis=0)/(mag_n_1*mag_ecc_1))\n",
    "else:\n",
    "    arg_per_1 = 2.0*np.pi - np.arccos(np.sum(n_1*ecc_1,axis=0)/(mag_n_1*mag_ecc_1))\n",
    "    \n",
    "if all(ecc_2[2]>=0.0):\n",
    "    arg_per_2 = np.arccos(np.sum(n_2*ecc_2,axis=0)/(mag_n_2*mag_ecc_2))\n",
    "else:\n",
    "    arg_per_2 = 2.0*np.pi - np.arccos(np.sum(n_2*ecc_2,axis=0)/(mag_n_2*mag_ecc_2))\n",
    "    \n",
    "if all(ecc_3[2]>=0.0):\n",
    "    arg_per_3 = np.arccos(np.sum(n_3*ecc_3,axis=0)/(mag_n_3*mag_ecc_3))\n",
    "else:\n",
    "\n",
    "    arg_per_3 = 2.0*np.pi - np.arccos(np.sum(n_3*ecc_3,axis=0)/(mag_n_3*mag_ecc_3))"
   ]
  },
  {
   "cell_type": "markdown",
   "id": "ce2ac459",
   "metadata": {},
   "source": [
    "# Mean anomaly $M(t)$ of each S/C"
   ]
  },
  {
   "cell_type": "code",
   "execution_count": 13,
   "id": "a620a7de",
   "metadata": {},
   "outputs": [],
   "source": [
    "mean_anomaly_1 = ecc_anomaly_1 - mag_ecc_1*np.sin(ecc_anomaly_1)\n",
    "mean_anomaly_2 = ecc_anomaly_2 - mag_ecc_2*np.sin(ecc_anomaly_2)\n",
    "mean_anomaly_3 = ecc_anomaly_3 - mag_ecc_3*np.sin(ecc_anomaly_3)"
   ]
  },
  {
   "cell_type": "markdown",
   "id": "fc487a57",
   "metadata": {},
   "source": [
    "# Semi-major axis $a(t)$ of each S/C"
   ]
  },
  {
   "cell_type": "code",
   "execution_count": 14,
   "id": "6b095bf6",
   "metadata": {},
   "outputs": [],
   "source": [
    "semi_major_1 = 1.0/(2.0/mag_pos_1 - mag_vel_1**2/GM_SUN)\n",
    "semi_major_2 = 1.0/(2.0/mag_pos_2 - mag_vel_2**2/GM_SUN)\n",
    "semi_major_3 = 1.0/(2.0/mag_pos_3 - mag_vel_3**2/GM_SUN)"
   ]
  },
  {
   "cell_type": "markdown",
   "id": "1a1d395c",
   "metadata": {},
   "source": [
    "# Save the first value in time (at cut_off) for each Keplerian orbital quantity to file."
   ]
  },
  {
   "cell_type": "code",
   "execution_count": 15,
   "id": "e185efcf",
   "metadata": {},
   "outputs": [],
   "source": [
    "cut_off = 0\n",
    "header = 'semi_major_1 semi_major_2 semi_major_3 mag_ecc_1 mag_ecc_2 mag_ecc_3 inclination_1 inclination_2 inclination_3 mean_anomaly_1 mean_anomaly_2 mean_anomaly_3 raan_1 raan_2 raan_3 arg_per_1 arg_per_2 arg_per_3'\n",
    "elements = np.array([semi_major_1[cut_off],semi_major_2[cut_off],semi_major_3[cut_off],mag_ecc_1[cut_off],mag_ecc_2[cut_off],mag_ecc_3[cut_off],inclination_1[cut_off],inclination_2[cut_off],inclination_3[cut_off],mean_anomaly_1[cut_off],mean_anomaly_2[cut_off],mean_anomaly_3[cut_off],raan_1[cut_off],raan_2[cut_off],raan_3[cut_off],arg_per_1[cut_off],arg_per_2[cut_off],arg_per_3[cut_off]])\n",
    "np.savetxt('elements_from_Cartesian_{0}_Hz_{1}_sec.dat'.format(f_s,sec),elements.T,header = header)"
   ]
  }
 ],
 "metadata": {
  "kernelspec": {
   "display_name": "Python 3",
   "language": "python",
   "name": "python3"
  },
  "language_info": {
   "codemirror_mode": {
    "name": "ipython",
    "version": 3
   },
   "file_extension": ".py",
   "mimetype": "text/x-python",
   "name": "python",
   "nbconvert_exporter": "python",
   "pygments_lexer": "ipython3",
   "version": "3.9.1"
  }
 },
 "nbformat": 4,
 "nbformat_minor": 5
}
