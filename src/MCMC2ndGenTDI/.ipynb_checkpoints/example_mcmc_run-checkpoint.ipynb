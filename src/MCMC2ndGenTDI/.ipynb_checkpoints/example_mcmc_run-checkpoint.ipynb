{
 "cells": [
  {
   "cell_type": "code",
   "execution_count": 12,
   "id": "9dd6c140",
   "metadata": {},
   "outputs": [],
   "source": [
    "from MCMC2ndGen import BayesTDI\n"
   ]
  },
  {
   "cell_type": "markdown",
   "id": "4d2ebcbe",
   "metadata": {},
   "source": [
    "# If running data that used numerical orbit model (18 parameter model) run first example and comment line 2, if running data that used Keplerian model, use second example and comment line 1"
   ]
  },
  {
   "cell_type": "code",
   "execution_count": 13,
   "id": "b650a95a",
   "metadata": {},
   "outputs": [],
   "source": [
    "#b1 = BayesTDI('LISA_Instrument_ESA_orbits_tcb_orbits_4_Hz_3600_sec.dat', cut_off=0,f_s=4.0,t_init= 13100.00,f_min= 5.0e-4,f_max = 0.1,orbit_model='esa',orbital_elements_file='elements_from_Cartesian_4_Hz_3600_sec.dat',tcb=True,number_n=7,Nens = 37,Nburnin = 100,Nsamples = 100000)\n",
    "b1 = BayesTDI('LISA_Instrument_Keplerian_orbits_ppr_orbits_2_Hz_86400_sec.dat', cut_off=0,f_s=2.0,t_init=0.0,f_min= 5.0e-4,f_max = 0.1,orbit_model='keplerian',orbital_elements_file=None,tcb=False,number_n=7,Nens = 37,Nburnin = 100,Nsamples = 100000)\n",
    "\n"
   ]
  },
  {
   "cell_type": "code",
   "execution_count": 14,
   "id": "ad975e6a",
   "metadata": {},
   "outputs": [
    {
     "name": "stdout",
     "output_type": "stream",
     "text": [
      "einsum_path_to_use\n",
      "['einsum_path', (0, 1)]\n"
     ]
    }
   ],
   "source": [
    "einsum_path_to_use = b1.get_einsum_path()\n"
   ]
  },
  {
   "cell_type": "code",
   "execution_count": null,
   "id": "7324395f",
   "metadata": {},
   "outputs": [],
   "source": [
    "if b1.orbit_model=='esa':\n",
    "    b1.run_zeus_mcmc(einsum_path_to_use)\n",
    "else:\n",
    "    b1.run_emcee_Keplerian_mcmc(einsum_path_to_use)"
   ]
  },
  {
   "cell_type": "code",
   "execution_count": null,
   "id": "88aa5ad9",
   "metadata": {},
   "outputs": [],
   "source": []
  }
 ],
 "metadata": {
  "kernelspec": {
   "display_name": "Python 3",
   "language": "python",
   "name": "python3"
  },
  "language_info": {
   "codemirror_mode": {
    "name": "ipython",
    "version": 3
   },
   "file_extension": ".py",
   "mimetype": "text/x-python",
   "name": "python",
   "nbconvert_exporter": "python",
   "pygments_lexer": "ipython3",
   "version": "3.9.1"
  }
 },
 "nbformat": 4,
 "nbformat_minor": 5
}
