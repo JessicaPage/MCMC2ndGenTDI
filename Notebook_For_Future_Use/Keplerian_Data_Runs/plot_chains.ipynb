{
 "cells": [
  {
   "cell_type": "code",
   "execution_count": null,
   "id": "cc05fad9",
   "metadata": {},
   "outputs": [],
   "source": [
    "import sys\n",
    "import numpy as np\n",
    "import matplotlib.pyplot as plt\n",
    "from mpl_toolkits.mplot3d import Axes3D\n",
    "import corner \n",
    "import matplotlib.lines as mlines\n",
    "import matplotlib.ticker as mtick\n",
    "import matplotlib.colors as color \n",
    "from chainconsumer import ChainConsumer\n",
    "#from matplotlib import rcParams\n",
    "from matplotlib import rc\n",
    "import h5py\n",
    "from lisaconstants import GM_SUN,c,ASTRONOMICAL_YEAR,ASTRONOMICAL_UNIT\n",
    "import emcee\n",
    "import matplotlib as mpl"
   ]
  },
  {
   "cell_type": "markdown",
   "id": "76ef9df4",
   "metadata": {},
   "source": [
    "# Read emcee chain sample file with h5py"
   ]
  },
  {
   "cell_type": "code",
   "execution_count": null,
   "id": "9668f9a8",
   "metadata": {},
   "outputs": [],
   "source": [
    "test_name='Keplerian Orbit Model'\n",
    "test_name_for_file = 'Keplerian_Orbit_Model'\n",
    "reader = emcee.backends.HDFBackend(\"samples_Keplerian_chain_omega_emcee_backend_testing.h5\", read_only=True)\n",
    "dir = './'"
   ]
  },
  {
   "cell_type": "markdown",
   "id": "377b9b3c",
   "metadata": {},
   "source": [
    "# Use emcee built-in functions to get autocorrelation time $\\tau$."
   ]
  },
  {
   "cell_type": "code",
   "execution_count": null,
   "id": "342384c8",
   "metadata": {},
   "outputs": [],
   "source": [
    "\n",
    "try:\n",
    "    tau = reader.get_autocorr_time()\n",
    "except:\n",
    "    print('not accurate tau at all. Just for plotting purposes')\n",
    "    tau =500\n",
    "\n",
    "\n",
    "print('tau')\n",
    "print(tau)\n"
   ]
  },
  {
   "cell_type": "markdown",
   "id": "d3145200",
   "metadata": {},
   "source": [
    "# Get Burn-in and thin values given autocorrelation time and load the chain with those settings. See emcee documention https://emcee.readthedocs.io/en/stable/"
   ]
  },
  {
   "cell_type": "code",
   "execution_count": null,
   "id": "e68fab03",
   "metadata": {},
   "outputs": [],
   "source": [
    "burnin = int(2 * np.max(tau))\n",
    "thin = int(0.5 * np.min(tau))\n",
    "flatchain = reader.get_chain(discard=burnin,thin=thin,flat=True)\n",
    "log_prob = reader.get_log_prob(discard=burnin,thin=thin,flat=True)"
   ]
  },
  {
   "cell_type": "markdown",
   "id": "dfdd7fad",
   "metadata": {},
   "source": [
    "# Parameters of chain "
   ]
  },
  {
   "cell_type": "code",
   "execution_count": null,
   "id": "7cef2e3d",
   "metadata": {},
   "outputs": [],
   "source": [
    "removed = 0 #Burn-in already applied above.\n",
    "minit1 = flatchain.T[0][removed::]\n",
    "semi_major = flatchain.T[1][removed::]\n",
    "arg_per = flatchain.T[2][removed::]"
   ]
  },
  {
   "cell_type": "markdown",
   "id": "d5ca7772",
   "metadata": {},
   "source": [
    "# Truth values of chain. Check your LISA Orbits simulation to make sure these are correct."
   ]
  },
  {
   "cell_type": "code",
   "execution_count": null,
   "id": "14ed7a57",
   "metadata": {},
   "outputs": [],
   "source": [
    "arg_per_truth = -np.pi/2.0\n",
    "minit1_truth = 0.0\n",
    "semi_major_truth = ASTRONOMICAL_UNIT"
   ]
  },
  {
   "cell_type": "markdown",
   "id": "af666d04",
   "metadata": {},
   "source": [
    "# Array format for chain consumer"
   ]
  },
  {
   "cell_type": "code",
   "execution_count": null,
   "id": "0fa585cd",
   "metadata": {},
   "outputs": [],
   "source": [
    "data_plot = np.array([minit1,semi_major-semi_major_truth,arg_per-arg_per_truth]).T"
   ]
  },
  {
   "cell_type": "markdown",
   "id": "09769ccd",
   "metadata": {},
   "source": [
    "# Use chain consumer to plot corner plots of parameter values. See documentation for arguments. https://samreay.github.io/ChainConsumer/"
   ]
  },
  {
   "cell_type": "code",
   "execution_count": null,
   "id": "8748fc81",
   "metadata": {},
   "outputs": [],
   "source": [
    "c = ChainConsumer()\n",
    "\n",
    "parameters=[r\"$M_{1_{0}} (\\mathrm{rad})$\",r\"$\\Delta a (\\mathrm{m})$\",r\"$\\Delta\\omega (\\mathrm{rad})$\"] #parameter labels\n",
    "\n",
    "\n",
    "c.add_chain(data_plot, parameters=parameters,color=color.to_hex('blue'),name=test_name)\n",
    "c.configure(summary_area=0.95,spacing=1.0,kde=False,smooth=1,shade=True,usetex=True,label_font_size=15,linewidths=1.5) #See chain conumer documention\n",
    "c.configure_truth(color='k')\n",
    "c.plotter.plot(chains=[test_name],figsize=(8.6,8.6),filename=dir+'corner_plot_Keplerian_Parameters_{0}.png'.format(test_name_for_file), truth=[minit1_truth,0.0,0.0],display=True,legend=True)\n",
    "c.plotter.plot_walks(display=True)\n",
    "plt.close()"
   ]
  },
  {
   "cell_type": "code",
   "execution_count": null,
   "id": "41c74b1a",
   "metadata": {},
   "outputs": [],
   "source": []
  }
 ],
 "metadata": {
  "kernelspec": {
   "display_name": "Python 3",
   "language": "python",
   "name": "python3"
  },
  "language_info": {
   "codemirror_mode": {
    "name": "ipython",
    "version": 3
   },
   "file_extension": ".py",
   "mimetype": "text/x-python",
   "name": "python",
   "nbconvert_exporter": "python",
   "pygments_lexer": "ipython3",
   "version": "3.9.1"
  }
 },
 "nbformat": 4,
 "nbformat_minor": 5
}
