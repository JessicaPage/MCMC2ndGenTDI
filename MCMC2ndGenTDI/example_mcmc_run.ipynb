{
 "cells": [
  {
   "cell_type": "code",
   "execution_count": 1,
   "id": "b3c96ac2",
   "metadata": {},
   "outputs": [],
   "source": [
    "from MCMC2ndGen import BayesTDI\n"
   ]
  },
  {
   "cell_type": "markdown",
   "id": "c16d4192",
   "metadata": {},
   "source": [
    "# Create BayesTDI() class instance. Set all arguments here. If running data that used numerical orbit model (18 parameter model) run first example and comment line 2, if running data that used Keplerian model, use second example and comment line 1"
   ]
  },
  {
   "cell_type": "code",
   "execution_count": 2,
   "id": "a5c529fb",
   "metadata": {},
   "outputs": [],
   "source": [
    "#b1 = BayesTDI('LISA_Instrument_ESA_orbits_tcb_orbits_4_Hz_3600_sec.dat', cut_off=0,f_s=4.0,t_init= 13100.00,f_min= 5.0e-4,f_max = 0.1,orbit_model='esa',orbital_elements_file='elements_from_Cartesian_4_Hz_3600_sec.dat',tcb=True,number_n=7,Nens = 37,Nburnin = 100,Nsamples = 100000)\n",
    "b1 = BayesTDI('LISA_Instrument_Keplerian_orbits_ppr_orbits_2_Hz_86400_sec.dat', cut_off=0,f_s=2.0,t_init=0.0,f_min= 5.0e-4,f_max = 0.1,orbit_model='keplerian',orbital_elements_file=None,tcb=False,number_n=7,Nens = 37,Nburnin = 100,Nsamples = 100000)\n",
    "\n"
   ]
  },
  {
   "cell_type": "markdown",
   "id": "6c6ac7d6",
   "metadata": {},
   "source": [
    "# Get the optimal einsum path to use for each MCMC iteration to speed up FDI filter calculations."
   ]
  },
  {
   "cell_type": "code",
   "execution_count": 3,
   "id": "21d1c5a8",
   "metadata": {},
   "outputs": [
    {
     "name": "stdout",
     "output_type": "stream",
     "text": [
      "einsum_path_to_use\n",
      "['einsum_path', (0, 1)]\n"
     ]
    }
   ],
   "source": [
    "einsum_path_to_use = b1.get_einsum_path()\n"
   ]
  },
  {
   "cell_type": "markdown",
   "id": "f8dc5efa",
   "metadata": {},
   "source": [
    "# Run either zeus sampler for numerical orbit model data (18-parameter model; still under development for converged posteriors) or the working Keplerian orbit model parameterization."
   ]
  },
  {
   "cell_type": "code",
   "execution_count": null,
   "id": "6ac92d83",
   "metadata": {},
   "outputs": [
    {
     "name": "stderr",
     "output_type": "stream",
     "text": [
      "/Users/jessica/Desktop/Project_2/TDI_2.0/Production/MCMC2ndGen/MCMC2ndGenTDI/mcmc_functions_Keplerian.py:53: RuntimeWarning: divide by zero encountered in log\n",
      "  return likelihood + np.log(prior)\n",
      "  0%|          | 0/100000 [00:00<?, ?it/s]/usr/local/lib/python3.9/site-packages/emcee/moves/red_blue.py:99: RuntimeWarning: invalid value encountered in scalar subtract\n",
      "  lnpdiff = f + nlp - state.log_prob[j]\n",
      "  0%|          | 1/100000 [01:52<3116:41:03, 112.20s/it]"
     ]
    }
   ],
   "source": [
    "if b1.orbit_model=='esa':\n",
    "    b1.run_zeus_mcmc(einsum_path_to_use)\n",
    "elif b1.orbit_model=='keplerian':\n",
    "    b1.run_emcee_Keplerian_mcmc(einsum_path_to_use)\n",
    "else:\n",
    "    print('not a valid orbit model/Lij(t) parameterization option.')"
   ]
  },
  {
   "cell_type": "code",
   "execution_count": null,
   "id": "58de3c53",
   "metadata": {},
   "outputs": [],
   "source": []
  }
 ],
 "metadata": {
  "kernelspec": {
   "display_name": "Python 3",
   "language": "python",
   "name": "python3"
  },
  "language_info": {
   "codemirror_mode": {
    "name": "ipython",
    "version": 3
   },
   "file_extension": ".py",
   "mimetype": "text/x-python",
   "name": "python",
   "nbconvert_exporter": "python",
   "pygments_lexer": "ipython3",
   "version": "3.9.1"
  }
 },
 "nbformat": 4,
 "nbformat_minor": 5
}
